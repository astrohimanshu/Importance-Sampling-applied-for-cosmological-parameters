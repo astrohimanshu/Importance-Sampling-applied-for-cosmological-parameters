{
  "nbformat": 4,
  "nbformat_minor": 0,
  "metadata": {
    "kernelspec": {
      "display_name": "Python 3",
      "language": "python",
      "name": "python3"
    },
    "language_info": {
      "codemirror_mode": {
        "name": "ipython",
        "version": 3
      },
      "file_extension": ".py",
      "mimetype": "text/x-python",
      "name": "python",
      "nbconvert_exporter": "python",
      "pygments_lexer": "ipython3",
      "version": "3.7.3"
    },
    "colab": {
      "name": "importance_sampling.ipynb",
      "provenance": [],
      "collapsed_sections": []
    }
  },
  "cells": [
    {
      "cell_type": "markdown",
      "metadata": {
        "id": "qvIFURRbZFkp"
      },
      "source": [
        "#Importance Sampling"
      ]
    },
    {
      "cell_type": "code",
      "metadata": {
        "id": "oVxCthWVKBfM",
        "colab": {
          "base_uri": "https://localhost:8080/",
          "height": 279
        },
        "outputId": "58747cbb-bcc1-4b97-8333-cb40f579d95d"
      },
      "source": [
        "import numpy as np\n",
        "from matplotlib import pyplot as plt\n",
        "import math as math\n",
        "from scipy import random\n",
        "from random import gauss\n",
        "%matplotlib inline\n",
        "# Reading the covariance matrix and reshaping it into 31x31 matrix.\n",
        "\n",
        "cov = np.loadtxt(r\"/content/jla_mub_covmatrix.txt\",unpack=True).reshape(31,31)\n",
        "#cov=cov.reshape(31,31)\n",
        "InvC = np.linalg.inv(cov)\n",
        "\n",
        "# Read in the Supernova data file:\n",
        "z,mu=np.loadtxt(r\"/content/jla_mub.txt\",delimiter=\" \",unpack=True)\n",
        "\n",
        "# Number of MCMC samples and number of parameters:\n",
        "nsamples = 10000\n",
        "npars    = 2\n",
        "\n",
        "# Sigma for each parameters:\n",
        "sigomega=0.01\n",
        "sigmu=0.01\n",
        "\n",
        "# number of data points:\n",
        "n = 31\n",
        "\n",
        "# Functions to approximate the luminosity distance and distance modulus:\n",
        "def mu_model(z,Omegam,h):\n",
        "    # Distance modulus at redshift z, for flat Universe with parameters Omegam, h\n",
        "    mu_model=25.0 - 5.0*math.log10(h) + 5.0*math.log10(DLstar(z,Omegam))\n",
        "    return mu_model\n",
        "\n",
        "def DLstar(z,Omegam):\n",
        "    # Luminosity Distance at redshift z, in Mpc/h, for flat Universe with parameters Omegam, h\n",
        "    DLval=3000.0*(1.0+z)*(eta(1.0,Omegam)-eta(1.0/(1.0+z), Omegam))\n",
        "    return DLval\n",
        "\n",
        "def eta( a, Omegam ):\n",
        "    s=math.pow(1.0/Omegam-1.0,1.0/3.0)\n",
        "    etaval=2.0 * math.sqrt(math.pow(s,3)+1.0) * math.pow(math.pow(a,-4)-0.1540*s*math.pow(a,-3)+\n",
        "                                                           0.4304*math.pow(s,2)*math.pow(a,-2)+\n",
        "                                                            0.19097*math.pow(s,3)/a+\n",
        "                                                        0.066941*math.pow(s,4),-0.125)   \n",
        "    return etaval\n",
        "\n",
        "diff = np.empty(n)\n",
        "# Plot the data:\n",
        "plt.plot(z,mu,'ro',z,mu,'b')\n",
        "npts    = 300\n",
        "z_plot  = np.linspace(0.01, 1.5, npts)\n",
        "mu_plot = np.empty(npts)\n",
        "\n",
        "# Plot a few theoretical curves on top of the data:\n",
        "for i in range (npts):\n",
        "    mu_plot[i]=mu_model(z_plot[i], 0.2, 0.4) #PLOTTING MU(Y) PLOT AS A FUNCTION OF VARIABLE Z(x)(CREATED USING LINSPACE)with PARAMETER 0.2,0.4\n",
        "plt.plot(z_plot,mu_plot)\n",
        "plt.xlabel('z')\n",
        "plt.ylabel(r'$\\mu$')\n",
        "for i in range (npts):\n",
        "    mu_plot[i] = mu_model(z_plot[i], 0.5, 0.5)\n",
        "plt.plot(z_plot,mu_plot)\n",
        "for i in range (npts):\n",
        "    mu_plot[i] = mu_model(z_plot[i], 0.8, 0.9)\n",
        "plt.plot(z_plot,mu_plot)\n",
        "plt.show()\n",
        "\n",
        "\n",
        "\n",
        "# Defining likelihood function for parameters omega and h:\n",
        "\n",
        "def lnL(Omegam, h):\n",
        "    \"Ln of likelihood for flat Universe and SN distance modulus data\"\n",
        "\n",
        "# Treat unphysical regions by setting likelihood to (almost) zero:    \n",
        "    if(Omegam<=0 or h<=0):\n",
        "        lnL = -1.e100\n",
        "    else:\n",
        "            \n",
        "# Compute difference with theory mu at redshifts of the SN, for trial Omegam, h:\n",
        "        for j in range (n):\n",
        "            diff[j] = mu[j]-mu_model(z[j],Omegam,h)\n",
        "\n",
        "# Compute ln(likelihood) assuming gaussian errors (double sum done using vector/matrix ops):\n",
        "        lnL = -0.5*np.dot(diff,np.dot(InvC,diff))\n",
        "        \n",
        "    return lnL"
      ],
      "execution_count": null,
      "outputs": [
        {
          "output_type": "display_data",
          "data": {
            "image/png": "[encoded data removed]",
            "text/plain": [
              "<Figure size 432x288 with 1 Axes>"
            ]
          },
          "metadata": {
            "tags": [],
            "needs_background": "light"
          }
        }
      ]
    },
    {
      "cell_type": "markdown",
      "metadata": {
        "id": "JqRay4j4x2gK"
      },
      "source": [
        "#Sampling from approximate distribution(Importance)"
      ]
    },
    {
      "cell_type": "markdown",
      "metadata": {
        "id": "0alk4558F6aw"
      },
      "source": [
        "#for h parameter"
      ]
    },
    {
      "cell_type": "code",
      "metadata": {
        "id": "rd5d7afIBNKM",
        "colab": {
          "base_uri": "https://localhost:8080/",
          "height": 313
        },
        "outputId": "3de51ced-9ee0-4b65-fd42-78c59665ca9f"
      },
      "source": [
        "def fx(v):                                                   #sampling from gaussian distribution for h with mean and variance as given in assignment\n",
        "    y=np.exp(-(((v-0.738)/0.024)**2)/2)/(0.024*np.sqrt(2*np.pi))  \n",
        "    return y\n",
        " \n",
        "x=[]\n",
        "\n",
        "alpha=0\n",
        "x.append(np.random.uniform())\n",
        "xacc=[]\n",
        "for i in range(1,1000):\n",
        "    x.append(gauss(x[i-1],0.01))\n",
        "\n",
        "    alpha=np.minimum(1,fx(x[i])/fx(x[i-1]))\n",
        "    if alpha>1:                                                #M-H algo\n",
        "        xacc.append(x[i])\n",
        "\n",
        "\n",
        "    else: \n",
        "        ui=np.random.uniform()\n",
        "        if ui<alpha:\n",
        "            xacc.append(x[i])\n",
        "        else:\n",
        "            x[i]=x[i-1]\n",
        "l=[i for i in range(len(xacc))]\n",
        "fn=[]\n",
        "for i in range(len(xacc)):\n",
        "    fn.append(fx(xacc[i]))\n",
        "plt.xlabel('h')\n",
        "plt.plot(xacc,[i*5 for i in fn],'o',label='Importance distribution')\n",
        "plt.legend()\n",
        "plt.hist(xacc,bins=50,ec='black')\n",
        "print(\"acceptance rate =\",(len(xacc)/len(x))*100)\n",
        "print(\"mean value of h\",np.mean(xacc))\n",
        "plt.xlim(0.5,0.8)\n",
        "plt.show()"
      ],
      "execution_count": null,
      "outputs": [
        {
          "output_type": "stream",
          "text": [
            "acceptance rate = 88.8\n",
            "mean value of h 0.7415930204179646\n"
          ],
          "name": "stdout"
        },
        {
          "output_type": "display_data",
          "data": {
            "image/png": "[encoded data removed]",
            "text/plain": [
              "<Figure size 432x288 with 1 Axes>"
            ]
          },
          "metadata": {
            "tags": [],
            "needs_background": "light"
          }
        }
      ]
    },
    {
      "cell_type": "markdown",
      "metadata": {
        "id": "GmZV2c88F-sS"
      },
      "source": [
        "#for omega parameter"
      ]
    },
    {
      "cell_type": "code",
      "metadata": {
        "id": "eJbo1mroBNKT",
        "colab": {
          "base_uri": "https://localhost:8080/",
          "height": 313
        },
        "outputId": "d545e634-fce9-4ca7-fe52-536f6b4bee5c"
      },
      "source": [
        "def fx2(v):\n",
        "    y=np.exp(-(((v-0.323)/0.024)**2)/2)/(0.024*np.sqrt(2*np.pi))  #sampling from gaussian distribution for Omegam with given mean and variance\n",
        "    return y\n",
        "\n",
        "y=[]\n",
        "\n",
        "alpha=0\n",
        "y.append(gauss(0.3,0.01))\n",
        "yacc=[]\n",
        "for i in range(1,1000):\n",
        "    y.append(gauss(y[i-1],0.01))\n",
        "\n",
        "    alpha=np.minimum(1,fx2(y[i])/fx2(y[i-1]))\n",
        "    if alpha>1:\n",
        "        yacc.append(y[i])\n",
        "\n",
        "\n",
        "    else: \n",
        "        ui=np.random.uniform()\n",
        "        if ui<alpha:\n",
        "            yacc.append(y[i])\n",
        "        else:\n",
        "            y[i]=y[i-1]\n",
        "l=[i for i in range(len(yacc))]\n",
        "\n",
        "#plt.scatter(xacc[100:],l[100:],c=xacc[100:])\n",
        "fn1=[]\n",
        "for i in range(len(yacc)):\n",
        "    fn1.append(fx2(yacc[i]))\n",
        "plt.xlabel('omega')\n",
        "plt.plot(yacc,[i*7 for i in fn1],'o',label='Importance distribution')\n",
        "plt.legend()\n",
        "plt.hist(yacc,bins=30,ec='black')\n",
        "print(\"acceptance rate =\",(len(yacc)/len(y))*100)\n",
        "print('mean value of omega',np.mean(yacc))\n",
        "plt.xlim(0.2,0.5)\n",
        "plt.show()"
      ],
      "execution_count": null,
      "outputs": [
        {
          "output_type": "stream",
          "text": [
            "acceptance rate = 87.1\n",
            "mean value of omega 0.32035034770967147\n"
          ],
          "name": "stdout"
        },
        {
          "output_type": "display_data",
          "data": {
            "image/png": "[encoded data removed]",
            "text/plain": [
              "<Figure size 432x288 with 1 Axes>"
            ]
          },
          "metadata": {
            "tags": [],
            "needs_background": "light"
          }
        }
      ]
    },
    {
      "cell_type": "markdown",
      "metadata": {
        "id": "-yjeaLlRhMeu"
      },
      "source": [
        "#correction for target distribution (self-normalised importance sampling for non uniform target)"
      ]
    },
    {
      "cell_type": "code",
      "metadata": {
        "id": "QLhS9XklBNKZ",
        "colab": {
          "base_uri": "https://localhost:8080/",
          "height": 613
        },
        "outputId": "7791babc-260d-428c-d732-8576bbda0201"
      },
      "source": [
        "trueh=[]\n",
        "def lnLh(h):                                                  #target distribution (likelihood) for h\n",
        "    hh=np.exp(lnL(0.30,h))               \n",
        "    return hh\n",
        "lnh=[]\n",
        "for i in range(len(xacc)):\n",
        "    lnh.append(lnLh(xacc[i]))\n",
        "s=[]\n",
        "for i in range(len(xacc)):\n",
        "    s.append(lnh[i]/fn[i])\n",
        "    trueh.append((xacc[i]*lnh[i])/fn[i])                       #weighted values \n",
        "trueO=[]\n",
        "def lnLo(o):                                                    #target for omega \n",
        "    oo=np.exp(lnL(o,0.70))            \n",
        "    return oo\n",
        "lno=[]\n",
        "s1=[]\n",
        "for i in range(len(yacc)):\n",
        "    lno.append(lnLo(yacc[i]))\n",
        "for i in range(len(yacc)):\n",
        "    s1.append(lno[i]/fn1[i])\n",
        "    trueO.append((yacc[i]*lno[i])/fn1[i])\n",
        "plt.title('histogram for h after weighted with target')\n",
        "truehh=[]\n",
        "for j in range(len(xacc)):\n",
        "    truehh.append(trueh[j]/s[j])\n",
        "plt.hist(truehh,bins=30,ec='black')\n",
        "plt.show()\n",
        "plt.title('histogram for omega after weighted with target')\n",
        "\n",
        "trueOO=[]\n",
        "for j in range(len(yacc)):\n",
        "    trueOO.append(trueO[j]/s1[j])\n",
        "\n",
        "plt.hist(trueOO,bins=30,ec='black')\n",
        "plt.show()\n",
        "print(\"mean value of h using importance sampling=\",np.mean(trueh)/np.mean(s))            #self-normalised importance sampling method \n",
        "print(\"standard deviation in h =\",np.std(truehh))\n",
        "print(\"mean value of omega using importance sampling=\",np.mean(trueO)/np.mean(s1))\n",
        "print(\"standard deviation in omegam =\",np.std(trueOO))\n",
        "\n"
      ],
      "execution_count": null,
      "outputs": [
        {
          "output_type": "display_data",
          "data": {
            "image/png": "[encoded data removed]",
            "text/plain": [
              "<Figure size 432x288 with 1 Axes>"
            ]
          },
          "metadata": {
            "tags": [],
            "needs_background": "light"
          }
        },
        {
          "output_type": "display_data",
          "data": {
            "image/png": "[encoded data removed]",
            "text/plain": [
              "<Figure size 432x288 with 1 Axes>"
            ]
          },
          "metadata": {
            "tags": [],
            "needs_background": "light"
          }
        },
        {
          "output_type": "stream",
          "text": [
            "mean value of h using importance sampling= 0.7024862184921496\n",
            "standard deviation in h = 0.02023552790584622\n",
            "mean value of omega using importance sampling= 0.30252522056829884\n",
            "standard deviation in omegam = 0.023910938717171037\n"
          ],
          "name": "stdout"
        }
      ]
    }
  ]
}